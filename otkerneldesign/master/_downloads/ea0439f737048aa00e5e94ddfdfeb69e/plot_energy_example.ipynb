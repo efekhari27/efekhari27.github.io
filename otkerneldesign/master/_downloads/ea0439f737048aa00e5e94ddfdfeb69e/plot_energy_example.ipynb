{
  "cells": [
    {
      "cell_type": "code",
      "execution_count": null,
      "metadata": {
        "collapsed": false
      },
      "outputs": [],
      "source": [
        "%matplotlib inline"
      ]
    },
    {
      "cell_type": "markdown",
      "metadata": {},
      "source": [
        "\n# Energy computation example\n\nThis page provides an example of energy \ncomputation for a given sample.\n"
      ]
    },
    {
      "cell_type": "code",
      "execution_count": null,
      "metadata": {
        "collapsed": false
      },
      "outputs": [],
      "source": [
        "import numpy as np\nimport openturns as ot\nimport otkerneldesign as otkd\nimport matplotlib.pyplot as plt\nfrom matplotlib import cm"
      ]
    },
    {
      "cell_type": "markdown",
      "metadata": {},
      "source": [
        "Bivariate uniform distribution\n\n"
      ]
    },
    {
      "cell_type": "code",
      "execution_count": null,
      "metadata": {
        "collapsed": false
      },
      "outputs": [],
      "source": [
        "unifrom = ot.Uniform(0., 1.)\ndimension = 5\ndistribution = ot.ComposedDistribution([unifrom] * dimension)"
      ]
    },
    {
      "cell_type": "markdown",
      "metadata": {},
      "source": [
        "## Standard and tensorized kernel herding \n\n"
      ]
    },
    {
      "cell_type": "code",
      "execution_count": null,
      "metadata": {
        "collapsed": false
      },
      "outputs": [],
      "source": [
        "size = 400\n# Kernel definition\ntheta = 0.3\nker_list = [ot.MaternModel([theta], [1.0], 2.5)] * dimension\nkernel = ot.ProductCovarianceModel(ker_list)\n# Kernel herding design\nkh = otkd.KernelHerding(\n    kernel=kernel,\n    candidate_set_size=2 ** 14,\n    distribution=distribution\n)\nkh_design, kh_indexes = kh.select_design(size)\n# Tensorized kernel herding design\nkht = otkd.KernelHerdingTensorized(\n    kernel=kernel,\n    candidate_set_size=2 ** 14,\n    distribution=distribution\n)\nkht_design, kht_indexes = kht.select_design(size)"
      ]
    },
    {
      "cell_type": "markdown",
      "metadata": {},
      "source": [
        "## Energy convergence\nThe main difference between the two classes is \nthe way to compute the target potential function. \nWith independent inputs and a covariance kernel\nbuilt as the product of one-dimensional kernels,\nthe TensorizedKernelHerding \nallows to write the multivariate potential as a product \nof univariate potentials, easing its computation in high dimension.\n\n"
      ]
    },
    {
      "cell_type": "code",
      "execution_count": null,
      "metadata": {
        "collapsed": false
      },
      "outputs": [],
      "source": [
        "kh_target_energy = kh._target_energy\nkht_target_energy = kht._target_energy\n\ntarget_energy_aerror = np.abs(kh_target_energy - kht_target_energy)\ntarget_energy_rerror = np.abs(kh_target_energy - kht_target_energy) / kh_target_energy\nprint(\"Target energy absolute error: {:.4}\".format(target_energy_aerror))\nprint(\"Target energy relative error: {:.3%}\".format(target_energy_rerror))"
      ]
    },
    {
      "cell_type": "markdown",
      "metadata": {},
      "source": [
        "Draw the energy convergence of KernelHerding and TensorizedKernelHerding designs.\n\u00a0Notice how they both converge towards their respective target energies.\n\n"
      ]
    },
    {
      "cell_type": "code",
      "execution_count": null,
      "metadata": {
        "collapsed": false
      },
      "outputs": [],
      "source": [
        "fig1, plot_data1 = kh.draw_energy_convergence(kh_indexes)\nfig2, plot_data2 = kht.draw_energy_convergence(kht_indexes)\n\nfig3, ax3 = plt.subplots(1, sharey=True, sharex=True)\n# Plot data from fig1 and fig2\nax3.plot(plot_data1.get_data()[0], plot_data1.get_data()[1], label=kh._method_label + 'standard')\nax3.plot(plot_data2.get_data()[0], plot_data2.get_data()[1], label=kht._method_label)\nax3.axhline(kh_target_energy, color='C0', linestyle='dashed', label='target energy standard')\nax3.axhline(kht_target_energy, color='C1', linestyle='dashed', label='target energy tensorized')\nax3.set_title('Energy convergence')\nax3.set_xlabel('design size ($n$)')\nax3.set_ylabel('Energy')\nax3.legend(loc='best')\nplt.show()"
      ]
    }
  ],
  "metadata": {
    "kernelspec": {
      "display_name": "Python 3",
      "language": "python",
      "name": "python3"
    },
    "language_info": {
      "codemirror_mode": {
        "name": "ipython",
        "version": 3
      },
      "file_extension": ".py",
      "mimetype": "text/x-python",
      "name": "python",
      "nbconvert_exporter": "python",
      "pygments_lexer": "ipython3",
      "version": "3.10.5"
    }
  },
  "nbformat": 4,
  "nbformat_minor": 0
}