{
  "cells": [
    {
      "cell_type": "code",
      "execution_count": null,
      "metadata": {
        "collapsed": false
      },
      "outputs": [],
      "source": [
        "%matplotlib inline"
      ]
    },
    {
      "cell_type": "markdown",
      "metadata": {},
      "source": [
        "\n# Kernel herding examples\n\nThe aim of this page is to provide simple examples where kernel herding is\napplied to multivariate random inputs with or without a dependency structure.\n"
      ]
    },
    {
      "cell_type": "code",
      "execution_count": null,
      "metadata": {
        "collapsed": false
      },
      "outputs": [],
      "source": [
        "import numpy as np\nimport openturns as ot\nimport otkerneldesign as otkd\nimport matplotlib.pyplot as plt\nfrom matplotlib import cm"
      ]
    },
    {
      "cell_type": "markdown",
      "metadata": {},
      "source": [
        "The following helper class will make plotting easier.\n\n"
      ]
    },
    {
      "cell_type": "code",
      "execution_count": null,
      "metadata": {
        "collapsed": false
      },
      "outputs": [],
      "source": [
        "class DrawFunctions:\n    def __init__(self):\n        dim = 2\n        self.grid_size = 100\n        lowerbound = [0.] * dim\n        upperbound = [1.] * dim\n        mesher = ot.IntervalMesher([self.grid_size-1] * dim)\n        interval = ot.Interval(lowerbound, upperbound)\n        mesh = mesher.build(interval)\n        self.nodes = mesh.getVertices()\n        self.X0, self.X1 = np.array(self.nodes).T.reshape(2, self.grid_size, self.grid_size)\n\n    def draw_2D_controur(self, title, function=None, distribution=None, colorbar=cm.coolwarm):\n        fig = plt.figure(figsize=(7, 6))\n        if distribution is not None:\n            Zpdf = np.array(distribution.computePDF(self.nodes)).reshape(self.grid_size, self.grid_size)\n            nb_isocurves = 9\n            contours = plt.contour(self.X0, self.X1, Zpdf, nb_isocurves, colors='black', alpha=0.6)\n            plt.clabel(contours, inline=True, fontsize=8)\n        if function is not None:\n            Z = np.array(function(self.nodes)).reshape(self.grid_size, self.grid_size)\n            plt.contourf(self.X0, self.X1, Z, 18, cmap=colorbar)\n            plt.colorbar()\n        plt.title(title)\n        plt.xlabel(\"$x_0$\")\n        plt.ylabel(\"$x_1$\")\n        return fig"
      ]
    },
    {
      "cell_type": "markdown",
      "metadata": {},
      "source": [
        "## Independent bivariate random mixture\n\n"
      ]
    },
    {
      "cell_type": "code",
      "execution_count": null,
      "metadata": {
        "collapsed": false
      },
      "outputs": [],
      "source": [
        "modes = [ot.Normal(0.3, 0.12), ot.Normal(0.7, 0.1)]\nweight = [0.4, 1.0]\nmixture = ot.Mixture(modes, weight)\nnormal = ot.Normal(0.6, 0.15)\ndistribution = ot.ComposedDistribution([mixture, normal])"
      ]
    },
    {
      "cell_type": "markdown",
      "metadata": {},
      "source": [
        "Draw a contour plot of the PDF.\n\n"
      ]
    },
    {
      "cell_type": "code",
      "execution_count": null,
      "metadata": {
        "collapsed": false
      },
      "outputs": [],
      "source": [
        "d = DrawFunctions()\nfig = d.draw_2D_controur('Bivariate random mixture', None, distribution)\nplt.show()"
      ]
    },
    {
      "cell_type": "markdown",
      "metadata": {},
      "source": [
        "First, sample from the distribution to get a Monte-Carlo design.\n\n"
      ]
    },
    {
      "cell_type": "code",
      "execution_count": null,
      "metadata": {
        "collapsed": false
      },
      "outputs": [],
      "source": [
        "dimension = distribution.getDimension()\nsize = 20\nmc_design = distribution.getSample(size)"
      ]
    },
    {
      "cell_type": "markdown",
      "metadata": {},
      "source": [
        "Define a kernel.\n\n"
      ]
    },
    {
      "cell_type": "code",
      "execution_count": null,
      "metadata": {
        "collapsed": false
      },
      "outputs": [],
      "source": [
        "ker_list = [ot.MaternModel([0.1], [1.0], 2.5)] * dimension\nkernel = ot.ProductCovarianceModel(ker_list)"
      ]
    },
    {
      "cell_type": "markdown",
      "metadata": {},
      "source": [
        "Build a kernel herding-based design representative of the distribution.\n\n"
      ]
    },
    {
      "cell_type": "code",
      "execution_count": null,
      "metadata": {
        "collapsed": false
      },
      "outputs": [],
      "source": [
        "kh = otkd.KernelHerding(\n    kernel=kernel,\n    candidate_set_size=2 ** 12,\n    distribution=distribution\n)\nkh_design, _ = kh.select_design(size)"
      ]
    },
    {
      "cell_type": "markdown",
      "metadata": {},
      "source": [
        "Because the copula of the distribution is independent\nand we used a product kernel,\nthe :class:`~otkerneldesign.KernelHerdingTensorized` class can do this\nin a computationally more efficient way.\n\n"
      ]
    },
    {
      "cell_type": "code",
      "execution_count": null,
      "metadata": {
        "collapsed": false
      },
      "outputs": [],
      "source": [
        "kht = otkd.KernelHerdingTensorized(\n    kernel=kernel,\n    candidate_set_size=2 ** 12,\n    distribution=distribution\n)\nkht_design, _ = kht.select_design(size)"
      ]
    },
    {
      "cell_type": "markdown",
      "metadata": {},
      "source": [
        "Draw the designs.\n\n"
      ]
    },
    {
      "cell_type": "code",
      "execution_count": null,
      "metadata": {
        "collapsed": false
      },
      "outputs": [],
      "source": [
        "fig = d.draw_2D_controur('Sampling a bivariate random mixture', None, distribution)\nplt.scatter(mc_design[:, 0], mc_design[:, 1], label='Monte Carlo (n={})'.format(size), marker='o', alpha=0.5)\nplt.scatter(kh_design[:, 0], kh_design[:, 1], label='Kernel Herding (n={})'.format(size), marker='X', color='C1')\nplt.scatter(kht_design[:, 0], kht_design[:, 1], label='Kernel Herding Tensorized (n={})'.format(size), marker='^', color='C2')\nplt.legend()\n#plt.legend(bbox_to_anchor=(0.5, -0.1), loc='upper center') # outside bounds\nplt.show()"
      ]
    },
    {
      "cell_type": "markdown",
      "metadata": {},
      "source": [
        "## Dependent bivariate random mixture\nUsing the same example, we can add a Copula as a dependency structure.\nNote that the :class:`~otkerneldesign.KernelHerdingTensorized`\nclass cannot be used in this case. \n\n"
      ]
    },
    {
      "cell_type": "code",
      "execution_count": null,
      "metadata": {
        "collapsed": false
      },
      "outputs": [],
      "source": [
        "distribution.setCopula(ot.ClaytonCopula(2.))\nfig = d.draw_2D_controur('Bivariate random mixture', None, distribution)\nplt.show()"
      ]
    },
    {
      "cell_type": "markdown",
      "metadata": {},
      "source": [
        "We build both Monte Carlo and kernel herding designs.\n\n"
      ]
    },
    {
      "cell_type": "code",
      "execution_count": null,
      "metadata": {
        "collapsed": false
      },
      "outputs": [],
      "source": [
        "mc_design = distribution.getSample(size)\nkh = otkd.KernelHerding(\n    kernel=kernel,\n    candidate_set_size=2 ** 12,\n    distribution=distribution\n)\nkh_design, _ = kh.select_design(size)"
      ]
    },
    {
      "cell_type": "markdown",
      "metadata": {},
      "source": [
        "Draw the designs.\n\n"
      ]
    },
    {
      "cell_type": "code",
      "execution_count": null,
      "metadata": {
        "collapsed": false
      },
      "outputs": [],
      "source": [
        "fig = d.draw_2D_controur('Sampling a bivariate random mixture', None, distribution)\nplt.scatter(mc_design[:, 0], mc_design[:, 1], label='Monte Carlo (n={})'.format(size), marker='o', alpha=0.5)\nplt.scatter(kh_design[:, 0], kh_design[:, 1], label='Kernel Herding (n={})'.format(size), marker='X', color='C1')\nplt.legend()\n#plt.legend(bbox_to_anchor=(0.5, -0.1), loc='upper center') # outside bounds\nplt.show()"
      ]
    }
  ],
  "metadata": {
    "kernelspec": {
      "display_name": "Python 3",
      "language": "python",
      "name": "python3"
    },
    "language_info": {
      "codemirror_mode": {
        "name": "ipython",
        "version": 3
      },
      "file_extension": ".py",
      "mimetype": "text/x-python",
      "name": "python",
      "nbconvert_exporter": "python",
      "pygments_lexer": "ipython3",
      "version": "3.10.5"
    }
  },
  "nbformat": 4,
  "nbformat_minor": 0
}