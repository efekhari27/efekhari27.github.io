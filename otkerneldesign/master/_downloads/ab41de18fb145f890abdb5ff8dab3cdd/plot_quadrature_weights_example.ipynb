{
  "cells": [
    {
      "cell_type": "code",
      "execution_count": null,
      "metadata": {
        "collapsed": false
      },
      "outputs": [],
      "source": [
        "%matplotlib inline"
      ]
    },
    {
      "cell_type": "markdown",
      "metadata": {},
      "source": [
        "\n# Bayesian quadrature weighting examples\n\nThe aim of this page is to provide a simple example to \ncompute optimal-weights for quadrature on any given sample.\n"
      ]
    },
    {
      "cell_type": "code",
      "execution_count": null,
      "metadata": {
        "collapsed": false
      },
      "outputs": [],
      "source": [
        "import numpy as np\nimport openturns as ot\nimport otkerneldesign as otkd\nimport matplotlib.pyplot as plt\nfrom matplotlib import cm"
      ]
    },
    {
      "cell_type": "markdown",
      "metadata": {},
      "source": [
        "The following helper class will make plotting easier.\n\n"
      ]
    },
    {
      "cell_type": "code",
      "execution_count": null,
      "metadata": {
        "collapsed": false
      },
      "outputs": [],
      "source": [
        "class DrawFunctions:\n    def __init__(self):\n        dim = 2\n        self.grid_size = 100\n        lowerbound = [0.] * dim\n        upperbound = [1.] * dim\n        mesher = ot.IntervalMesher([self.grid_size-1] * dim)\n        interval = ot.Interval(lowerbound, upperbound)\n        mesh = mesher.build(interval)\n        self.nodes = mesh.getVertices()\n        self.X0, self.X1 = np.array(self.nodes).T.reshape(2, self.grid_size, self.grid_size)\n\n    def draw_2D_contour(self, title, function=None, distribution=None, colorbar=cm.coolwarm):\n        fig = plt.figure(figsize=(7, 6))\n        if distribution is not None:\n            Zpdf = np.array(distribution.computePDF(self.nodes)).reshape(self.grid_size, self.grid_size)\n            nb_isocurves = 9\n            contours = plt.contour(self.X0, self.X1, Zpdf, nb_isocurves, colors='black', alpha=0.6)\n            plt.clabel(contours, inline=True, fontsize=8)\n        if function is not None:\n            Z = np.array(function(self.nodes)).reshape(self.grid_size, self.grid_size)\n            plt.contourf(self.X0, self.X1, Z, 18, cmap=colorbar)\n            plt.colorbar()\n        plt.title(title)\n        plt.xlabel(\"$x_0$\")\n        plt.ylabel(\"$x_1$\")\n        return fig\n\n    def draw_candidates(self, candidate_sample, title='Design of experiments'):\n        fig = d.draw_2D_contour(title, None, distribution)\n        plt.title(title)\n        plt.xlabel(\"$x_0$\")\n        plt.ylabel(\"$x_1$\")\n        plt.scatter(candidate_sample[:, 0], candidate_sample[:, 1], alpha=0.1, label='candidate points ($N={}$)'.format(len(candidate_sample)), color='C7')\n        plt.legend(loc='best')\n        return fig"
      ]
    },
    {
      "cell_type": "markdown",
      "metadata": {},
      "source": [
        "## Dependent bivariate random mixture\nLet us first define an independent bivariate random mixture.\n\n"
      ]
    },
    {
      "cell_type": "code",
      "execution_count": null,
      "metadata": {
        "collapsed": false
      },
      "outputs": [],
      "source": [
        "modes = [ot.Normal(0.3, 0.12), ot.Normal(0.7, 0.1)]\nweight = [0.4, 1.0]\nmixture = ot.Mixture(modes, weight)\nnormal = ot.Normal(0.6, 0.15)\ndistribution = ot.ComposedDistribution([mixture, normal])"
      ]
    },
    {
      "cell_type": "markdown",
      "metadata": {},
      "source": [
        "Draw a contour plot of the PDF.\n\n"
      ]
    },
    {
      "cell_type": "code",
      "execution_count": null,
      "metadata": {
        "collapsed": false
      },
      "outputs": [],
      "source": [
        "d = DrawFunctions()\nfig = d.draw_2D_contour('Bivariate random mixture', None, distribution)\nplt.show()"
      ]
    },
    {
      "cell_type": "markdown",
      "metadata": {},
      "source": [
        "Using the same example, we can add a Copula as a dependency structure.\nNote that the :class:`~otkerneldesign.KernelHerdingTensorized`\nclass cannot be used in this case.\n\n"
      ]
    },
    {
      "cell_type": "code",
      "execution_count": null,
      "metadata": {
        "collapsed": false
      },
      "outputs": [],
      "source": [
        "distribution.setCopula(ot.ClaytonCopula(2.))\nfig = d.draw_2D_contour('Bivariate random mixture', None, distribution)\nplt.show()"
      ]
    },
    {
      "cell_type": "markdown",
      "metadata": {},
      "source": [
        "Define a kernel.\n\n"
      ]
    },
    {
      "cell_type": "code",
      "execution_count": null,
      "metadata": {
        "collapsed": false
      },
      "outputs": [],
      "source": [
        "dimension = distribution.getDimension()\nker_list = [ot.MaternModel([0.1], [1.0], 2.5)] * dimension\nkernel = ot.ProductCovarianceModel(ker_list)"
      ]
    },
    {
      "cell_type": "markdown",
      "metadata": {},
      "source": [
        "We build both Monte Carlo and kernel herding \ndesigns representative of the distribution.\n\n"
      ]
    },
    {
      "cell_type": "code",
      "execution_count": null,
      "metadata": {
        "collapsed": false
      },
      "outputs": [],
      "source": [
        "size = 10\nmc_design = distribution.getSample(size)\nkh = otkd.KernelHerding(\n    kernel=kernel,\n    candidate_set_size=2 ** 12,\n    distribution=distribution\n)\nkh_design = kh.select_design(size)"
      ]
    },
    {
      "cell_type": "markdown",
      "metadata": {},
      "source": [
        "Draw the designs and the empirical representation \nof the target distribution (a.k.a., candidate set).\n\n"
      ]
    },
    {
      "cell_type": "code",
      "execution_count": null,
      "metadata": {
        "collapsed": false
      },
      "outputs": [],
      "source": [
        "fig = d.draw_candidates(kh._candidate_set, 'Sampling a bivariate random mixture')\nplt.scatter(mc_design[:, 0], mc_design[:, 1], label='Monte Carlo (n={})'.format(size), marker='o', color='C5')\nplt.scatter(kh_design[:, 0], kh_design[:, 1], label='Kernel Herding (n={})'.format(size), marker='o', color='C0')\nplt.legend(loc='best')\n#plt.legend(bbox_to_anchor=(0.5, -0.1), loc='upper center') # outside bounds\nplt.show()"
      ]
    },
    {
      "cell_type": "markdown",
      "metadata": {},
      "source": [
        "## Bayesian quadrature weights\nFor any given sample and target distribution, \nlet us compute a set of optimal weights for quadrature.\n\n"
      ]
    },
    {
      "cell_type": "code",
      "execution_count": null,
      "metadata": {
        "collapsed": false
      },
      "outputs": [],
      "source": [
        "bqm = otkd.BayesianQuadratureWeighting(\n    kernel=kernel, \n    distribution=distribution, \n)\nkh_weights = bqm.compute_bayesian_quadrature_weights(kh_design)\nmc_weights = bqm.compute_bayesian_quadrature_weights(mc_design)"
      ]
    },
    {
      "cell_type": "markdown",
      "metadata": {},
      "source": [
        "Draw samples with corresponding weights \nproportionate to the markers sizes.\n\n"
      ]
    },
    {
      "cell_type": "code",
      "execution_count": null,
      "metadata": {
        "collapsed": false
      },
      "outputs": [],
      "source": [
        "fig = d.draw_candidates(kh._candidate_set, 'Sampling a bivariate random mixture')\nx_label = '{} sequential design ($n={}$)'.format('kernel herding', len(kh_design))\nplt.scatter(mc_design[:, 0], mc_design[:, 1], color='C5', label='Monte Carlo design ($n={}$)'.format(len(mc_design)), s=mc_weights * 1500, marker='o')\nplt.scatter(kh_design[:, 0], kh_design[:, 1], color='C0', label=x_label, s=kh_weights * 1500, marker='o')\nfor i in range(len(kh_design)):\n    plt.text(kh_design[i][0], kh_design[i][1], \"{}\".format(i + 1), weight=\"bold\", fontsize=12)\nplt.legend(loc='best')\nplt.show()"
      ]
    }
  ],
  "metadata": {
    "kernelspec": {
      "display_name": "Python 3",
      "language": "python",
      "name": "python3"
    },
    "language_info": {
      "codemirror_mode": {
        "name": "ipython",
        "version": 3
      },
      "file_extension": ".py",
      "mimetype": "text/x-python",
      "name": "python",
      "nbconvert_exporter": "python",
      "pygments_lexer": "ipython3",
      "version": "3.10.6"
    }
  },
  "nbformat": 4,
  "nbformat_minor": 0
}