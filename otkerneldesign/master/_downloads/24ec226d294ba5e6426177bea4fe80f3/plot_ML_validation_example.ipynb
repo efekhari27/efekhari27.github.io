{
  "cells": [
    {
      "cell_type": "code",
      "execution_count": null,
      "metadata": {
        "collapsed": false
      },
      "outputs": [],
      "source": [
        "%matplotlib inline"
      ]
    },
    {
      "cell_type": "markdown",
      "metadata": {},
      "source": [
        "\n# Machine learning validation example\n\nThe aim of this page is to provide simple use-case where kernel design \nis used to build a design of experiments complementary to an existing one, \neither to enhance a machine learning model or for validation.\n"
      ]
    },
    {
      "cell_type": "code",
      "execution_count": null,
      "metadata": {
        "collapsed": false
      },
      "outputs": [],
      "source": [
        "import numpy as np\nimport openturns as ot\nimport otkerneldesign as otkd\nimport matplotlib.pyplot as plt\nfrom matplotlib import cm"
      ]
    },
    {
      "cell_type": "markdown",
      "metadata": {},
      "source": [
        "The following helper class will make plotting easier.\n\n"
      ]
    },
    {
      "cell_type": "code",
      "execution_count": null,
      "metadata": {
        "collapsed": false
      },
      "outputs": [],
      "source": [
        "class DrawFunctions:\n    def __init__(self):\n        dim = 2\n        self.grid_size = 100\n        lowerbound = [0.] * dim\n        upperbound = [1.] * dim\n        mesher = ot.IntervalMesher([self.grid_size-1] * dim)\n        interval = ot.Interval(lowerbound, upperbound)\n        mesh = mesher.build(interval)\n        self.nodes = mesh.getVertices()\n        self.X0, self.X1 = np.array(self.nodes).T.reshape(2, self.grid_size, self.grid_size)\n\n    def draw_2D_contour(self, title, function=None, distribution=None, colorbar=cm.viridis):\n        fig = plt.figure(figsize=(7, 6))\n        if distribution is not None:\n            Zpdf = np.array(distribution.computePDF(self.nodes)).reshape(self.grid_size, self.grid_size)\n            nb_isocurves = 9\n            contours = plt.contour(self.X0, self.X1, Zpdf, nb_isocurves, colors='black', alpha=0.6)\n            plt.clabel(contours, inline=True, fontsize=8)\n        if function is not None:\n            Z = np.array(function(self.nodes)).reshape(self.grid_size, self.grid_size)\n            plt.contourf(self.X0, self.X1, Z, 18, cmap=colorbar)\n            plt.colorbar()\n        plt.title(title)\n        plt.xlabel(\"$x_0$\")\n        plt.ylabel(\"$x_1$\")\n        return fig"
      ]
    },
    {
      "cell_type": "markdown",
      "metadata": {},
      "source": [
        "## Regression model of a 2D function\nDefine the function to be approximated.\n\n"
      ]
    },
    {
      "cell_type": "code",
      "execution_count": null,
      "metadata": {
        "collapsed": false
      },
      "outputs": [],
      "source": [
        "function_expression = 'exp((2*x1-1))/5 - (2*x2-1)/5 + ((2*x2-1)^6)/3 + 4*((2*x2-1)^4) - 4*((2*x2-1)^2) + (7/10)*((2*x1-1)^2) + (2*x1-1)^4 + 3/(4*((2*x1-1)^2) + 4*((2*x2-1)^2) + 1)'\nirregular_function = ot.SymbolicFunction(['x1', 'x2'], [function_expression])\nirregular_function.setName(\"Irregular\")\nprint(irregular_function)"
      ]
    },
    {
      "cell_type": "markdown",
      "metadata": {},
      "source": [
        "Draw a contours of the 2D function.\n\n"
      ]
    },
    {
      "cell_type": "code",
      "execution_count": null,
      "metadata": {
        "collapsed": false
      },
      "outputs": [],
      "source": [
        "d = DrawFunctions()\nd.draw_2D_contour(\"Irregular function\", function=irregular_function)\nplt.show()"
      ]
    },
    {
      "cell_type": "markdown",
      "metadata": {},
      "source": [
        "Define the joint input random vector, here uniform \nsince our goal is to build a good regression model \non the entire domain.\n\n"
      ]
    },
    {
      "cell_type": "code",
      "execution_count": null,
      "metadata": {
        "collapsed": false
      },
      "outputs": [],
      "source": [
        "distribution = ot.ComposedDistribution([ot.Uniform(0, 1)] * 2)"
      ]
    },
    {
      "cell_type": "markdown",
      "metadata": {},
      "source": [
        "Build a learning set, for example by Latin Hypercube Sampling.\n\n"
      ]
    },
    {
      "cell_type": "code",
      "execution_count": null,
      "metadata": {
        "collapsed": false
      },
      "outputs": [],
      "source": [
        "learning_size = 20\not.RandomGenerator.SetSeed(0)\nLHS_experiment = ot.LHSExperiment(distribution, learning_size, True, True)\nx_learn = LHS_experiment.generate()\ny_learn = irregular_function(x_learn)"
      ]
    },
    {
      "cell_type": "markdown",
      "metadata": {},
      "source": [
        "Build a design of experiments complementary to \nthe existing learning set (e.g., for testing). \nNote that the kernel herding method could also be used.\n\n"
      ]
    },
    {
      "cell_type": "code",
      "execution_count": null,
      "metadata": {
        "collapsed": false
      },
      "outputs": [],
      "source": [
        "test_size = 10\nsp = otkd.GreedySupportPoints(distribution, initial_design=x_learn)\nx_test = sp.select_design(test_size)\ny_test = irregular_function(x_test)"
      ]
    },
    {
      "cell_type": "markdown",
      "metadata": {},
      "source": [
        "Plot the Learning set (in red) and testing sets \n(in black with the corresponding construction design order).\n\n"
      ]
    },
    {
      "cell_type": "code",
      "execution_count": null,
      "metadata": {
        "collapsed": false
      },
      "outputs": [],
      "source": [
        "fig = d.draw_2D_contour(\"Irregular function\", function=irregular_function)\nplt.scatter(x_learn[:, 0], x_learn[:, 1], label='Learning set ($m={}$)'.format(len(x_learn)), marker='$L$', color='C3')\nplt.scatter(x_test[:, 0], x_test[:, 1], label='Test set ($n={}$)'.format(len(x_test)), marker='$T$', color='k')\n#\u00a0Test set indexes\n[plt.text(x_test[i][0] * 1.02, x_test[i][1] * 1.02, str(i + 1), weight=\"bold\", fontsize=np.max((20 - i, 5))) for i in range(test_size)]\nlgd = plt.legend(bbox_to_anchor=(0.5, -0.1), loc='upper center')\nplt.tight_layout(pad=1)\nplt.show()"
      ]
    },
    {
      "cell_type": "markdown",
      "metadata": {},
      "source": [
        "## Kriging model fit and validation\nBuild a simple Kriging regression model.\n\n"
      ]
    },
    {
      "cell_type": "code",
      "execution_count": null,
      "metadata": {
        "collapsed": false
      },
      "outputs": [],
      "source": [
        "dim = distribution.getDimension()\nbasis = ot.ConstantBasisFactory(dim).build()\ncovariance_model = ot.MaternModel([0.2] * dim, 2.5)\nalgo = ot.KrigingAlgorithm(x_learn, y_learn, covariance_model, basis)\nalgo.run()\nresult = algo.getResult()\nkriging_model = result.getMetaModel()"
      ]
    },
    {
      "cell_type": "markdown",
      "metadata": {},
      "source": [
        "Build a large Monte Carlo reference test set and \ncompute a reference performance metric on it.\n\n"
      ]
    },
    {
      "cell_type": "code",
      "execution_count": null,
      "metadata": {
        "collapsed": false
      },
      "outputs": [],
      "source": [
        "xref_test = distribution.getSample(10000)\nyref_test = irregular_function(xref_test)\nref_val = ot.MetaModelValidation(xref_test, yref_test, kriging_model)\nref_Q2 = ref_val.computePredictivityFactor()[0]\nprint(\"Reference Monte Carlo (n=10000) predictivity coefficient: {:.3}\".format(ref_Q2))"
      ]
    },
    {
      "cell_type": "markdown",
      "metadata": {},
      "source": [
        "In comparison, our test set underestimates \nthe performance of the Kriging model. \nThis situation is expected since the test points are \nsupposed to be far from the learning set.\n\n"
      ]
    },
    {
      "cell_type": "code",
      "execution_count": null,
      "metadata": {
        "collapsed": false
      },
      "outputs": [],
      "source": [
        "val = ot.MetaModelValidation(x_test, y_test, kriging_model)\nestimated_Q2 = val.computePredictivityFactor()[0]\nprint(\"Support points (n={}) predictivity coefficient: {:.3}\".format(test_size, estimated_Q2))"
      ]
    },
    {
      "cell_type": "markdown",
      "metadata": {},
      "source": [
        "To take this into account, \nlet us compute optimal weights for validation. \nAfter applying the weights, the estimated performance\nis more optimistic and closer to the reference value.\n\n"
      ]
    },
    {
      "cell_type": "code",
      "execution_count": null,
      "metadata": {
        "collapsed": false
      },
      "outputs": [],
      "source": [
        "tsw = otkd.TestSetWeighting(x_learn, x_test, sp._candidate_set)\noptimal_test_weights = tsw.compute_weights()\nweighted_Q2 = 1 - np.mean(np.array(y_test).flatten() * optimal_test_weights) / y_test.computeVariance()[0]\nprint(\"Weighted support points (n={}) predictivity coefficient: {:.3}\".format(test_size, weighted_Q2))"
      ]
    },
    {
      "cell_type": "markdown",
      "metadata": {},
      "source": [
        "## Adding test set to learning set\nThe test set can now be added to the learning set to enhance the Kriging model\n\n"
      ]
    },
    {
      "cell_type": "code",
      "execution_count": null,
      "metadata": {
        "collapsed": false
      },
      "outputs": [],
      "source": [
        "x_learn.add(x_test)\ny_learn.add(y_test)\nalgo_enhanced = ot.KrigingAlgorithm(x_learn, y_learn, covariance_model, basis)\nalgo_enhanced.run()\nresult_enhanced = algo_enhanced.getResult()\nkriging_enhanced = result_enhanced.getMetaModel()\n\nref_val_enhanced = ot.MetaModelValidation(xref_test, yref_test, kriging_enhanced)\nref_Q2_enhanced = ref_val_enhanced.computePredictivityFactor()[0]\nprint(\"Enhanced Kriging - Monte Carlo (n=10000) predictivity coefficient: {:.3}\".format(ref_Q2_enhanced))"
      ]
    }
  ],
  "metadata": {
    "kernelspec": {
      "display_name": "Python 3",
      "language": "python",
      "name": "python3"
    },
    "language_info": {
      "codemirror_mode": {
        "name": "ipython",
        "version": 3
      },
      "file_extension": ".py",
      "mimetype": "text/x-python",
      "name": "python",
      "nbconvert_exporter": "python",
      "pygments_lexer": "ipython3",
      "version": "3.10.6"
    }
  },
  "nbformat": 4,
  "nbformat_minor": 0
}